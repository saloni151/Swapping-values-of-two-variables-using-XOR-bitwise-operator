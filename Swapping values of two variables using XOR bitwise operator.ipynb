{
 "cells": [
  {
   "cell_type": "markdown",
   "id": "bee6f822-8477-4ddc-bee3-c33c9e27ac6d",
   "metadata": {},
   "source": [
    "**Write a Python program  for swapping the value of two variables using XOR bitwise operator.**"
   ]
  },
  {
   "cell_type": "code",
   "execution_count": 1,
   "id": "d5f6af8c-6543-4ba9-a947-3450d7ce0523",
   "metadata": {},
   "outputs": [
    {
     "name": "stdin",
     "output_type": "stream",
     "text": [
      "Enter the first value: 5\n"
     ]
    }
   ],
   "source": [
    "#Accepting the value for the first variable.\n",
    "a=int(input(\"Enter the first value:\"))"
   ]
  },
  {
   "cell_type": "code",
   "execution_count": 2,
   "id": "6df3bd54-9f01-4caa-8942-d40248582f06",
   "metadata": {},
   "outputs": [
    {
     "name": "stdin",
     "output_type": "stream",
     "text": [
      "Enter the second value: 6\n"
     ]
    }
   ],
   "source": [
    "#Accepting the value for second variable.\n",
    "b=int(input(\"Enter the second value:\"))"
   ]
  },
  {
   "cell_type": "code",
   "execution_count": 3,
   "id": "1f353cba-afcd-49d2-8914-c3130ba71324",
   "metadata": {},
   "outputs": [
    {
     "name": "stdout",
     "output_type": "stream",
     "text": [
      "The original value of the variable a is: 5 \n"
     ]
    }
   ],
   "source": [
    "#displaying the original value of first variable\n",
    "print(\"The original value of the variable a is: {} \".format(a))"
   ]
  },
  {
   "cell_type": "code",
   "execution_count": 4,
   "id": "d6735e89-4ff2-4916-937a-30408825f481",
   "metadata": {},
   "outputs": [
    {
     "name": "stdout",
     "output_type": "stream",
     "text": [
      "The original value of the variable b is: 6 \n"
     ]
    }
   ],
   "source": [
    "#displaying the original value of second variable\n",
    "print(\"The original value of the variable b is: {} \".format(b))"
   ]
  },
  {
   "cell_type": "code",
   "execution_count": 5,
   "id": "ab5456ac-ac02-48d9-944c-cac5221c33ca",
   "metadata": {},
   "outputs": [],
   "source": [
    "#logic for swapping the values of two variable using XOR operator\n",
    "a=a^b\n",
    "b=a^b\n",
    "a=a^b"
   ]
  },
  {
   "cell_type": "code",
   "execution_count": 6,
   "id": "0835824b-07db-443b-a04d-160320d24c4d",
   "metadata": {},
   "outputs": [
    {
     "name": "stdout",
     "output_type": "stream",
     "text": [
      "The value of the first variable a after swapping is: 6 \n"
     ]
    }
   ],
   "source": [
    "#displaying the value of first variable after swapping\n",
    "print(\"The value of the first variable a after swapping is: {} \".format(a))"
   ]
  },
  {
   "cell_type": "code",
   "execution_count": 7,
   "id": "c5ee79b7-e096-49cb-858d-177aef2011c4",
   "metadata": {},
   "outputs": [
    {
     "name": "stdout",
     "output_type": "stream",
     "text": [
      "The value of the second variable b after swapping is: 5 \n"
     ]
    }
   ],
   "source": [
    "#displaying the value of second variable after swapping\n",
    "print(\"The value of the second variable b after swapping is: {} \".format(b))"
   ]
  },
  {
   "cell_type": "code",
   "execution_count": null,
   "id": "d3e1c880-4ab7-4cbb-8167-1cb0dbfbb8d7",
   "metadata": {},
   "outputs": [],
   "source": []
  },
  {
   "cell_type": "code",
   "execution_count": null,
   "id": "27f1a917-fb47-4903-b4a7-eca85c79730e",
   "metadata": {},
   "outputs": [],
   "source": []
  },
  {
   "cell_type": "code",
   "execution_count": null,
   "id": "b3b6efd1-3241-4525-aa6e-2925dd368370",
   "metadata": {},
   "outputs": [],
   "source": []
  }
 ],
 "metadata": {
  "kernelspec": {
   "display_name": "Python 3 (ipykernel)",
   "language": "python",
   "name": "python3"
  },
  "language_info": {
   "codemirror_mode": {
    "name": "ipython",
    "version": 3
   },
   "file_extension": ".py",
   "mimetype": "text/x-python",
   "name": "python",
   "nbconvert_exporter": "python",
   "pygments_lexer": "ipython3",
   "version": "3.12.7"
  }
 },
 "nbformat": 4,
 "nbformat_minor": 5
}
